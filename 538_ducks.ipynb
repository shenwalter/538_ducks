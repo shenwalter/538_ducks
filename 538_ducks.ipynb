{
 "cells": [
  {
   "cell_type": "markdown",
   "metadata": {},
   "source": [
    "# Delirious Ducks\n",
    "\n",
    "Problem from https://fivethirtyeight.com/features/can-you-track-the-delirious-ducks/\n",
    "\n",
    "Question: After a long night of frivolous quackery, two delirious ducks are having a difficult time finding each other in their pond. The pond happens to contain a 3×3 grid of rocks.\n",
    "\n",
    "Every minute, each duck randomly swims, independently of the other duck, from one rock to a neighboring rock in the 3×3 grid — up, down, left or right, but not diagonally. So if a duck is at the middle rock, it will next swim to one of the four side rocks with probability 1/4. From a side rock, it will swim to one of the two adjacent corner rocks or back to the middle rock, each with probability 1/3. And from a corner rock, it will swim to one of the two adjacent side rocks with probability 1/2.\n",
    "\n",
    "If the ducks both start at the middle rock, then on average, how long will it take until they’re at the same rock again? (Of course, there’s a 1/4 chance that they’ll swim in the same direction after the first minute, in which case it would only take one minute for them to be at the same rock again. But it could take much longer, if they happen to keep missing each other.)\n",
    "\n",
    "Extra credit: What if there are three or more ducks? If they all start in the middle rock, on average, how long will it take until they are all at the same rock again?"
   ]
  },
  {
   "cell_type": "markdown",
   "metadata": {},
   "source": [
    "### Solution\n",
    "\n",
    "Below, find my (rather hamfisted) solution—in particular, I go through and consider every possible move in every possible square, which leads to a pretty inefficient solution... "
   ]
  },
  {
   "cell_type": "code",
   "execution_count": 1,
   "metadata": {},
   "outputs": [],
   "source": [
    "# return the 2,3, or 4 valid moves based on the duck's position\n",
    "def validMoves(x, y):\n",
    "    validMoves = []\n",
    "    \n",
    "    # center stone moves\n",
    "    if (x==2 and  y==2):\n",
    "        validMoves.append((2,1))\n",
    "        validMoves.append((3,2))\n",
    "        validMoves.append((2,3))\n",
    "        validMoves.append((1,2)) \n",
    "    \n",
    "    # corner stone moves\n",
    "    elif (x==1 and y==1):\n",
    "        validMoves.append((2,1))\n",
    "        validMoves.append((1,2))\n",
    "    elif (x==3 and y==1):\n",
    "        validMoves.append((2,1))\n",
    "        validMoves.append((3,2))\n",
    "    elif (x==3 and y==3):\n",
    "        validMoves.append((2,3))\n",
    "        validMoves.append((3,2))\n",
    "    elif (x==1 and y==3):\n",
    "        validMoves.append((1,2))\n",
    "        validMoves.append((2,3))\n",
    "        \n",
    "    # side stone moves   \n",
    "    elif (x==2 and y==1):\n",
    "        validMoves.append((1,1))\n",
    "        validMoves.append((3,1))\n",
    "        validMoves.append((2,2))\n",
    "    elif (x==3 and y==2):\n",
    "        validMoves.append((3,1))\n",
    "        validMoves.append((3,3))\n",
    "        validMoves.append((2,2))\n",
    "    elif (x==2 and y==3):\n",
    "        validMoves.append((1,3))\n",
    "        validMoves.append((3,3))\n",
    "        validMoves.append((2,2))\n",
    "    elif (x==1 and y==2):\n",
    "        validMoves.append((1,1))\n",
    "        validMoves.append((1,3))\n",
    "        validMoves.append((2,2))\n",
    "    \n",
    "    #print(\"valid moves\",validMoves)\n",
    "    return validMoves"
   ]
  },
  {
   "cell_type": "code",
   "execution_count": 2,
   "metadata": {},
   "outputs": [],
   "source": [
    "import random\n",
    "#choose a duck move to make\n",
    "def chooseMove(x, y): \n",
    "    choices = validMoves(x,y)\n",
    "    move = random.choice(choices)\n",
    "    return move"
   ]
  },
  {
   "cell_type": "code",
   "execution_count": 3,
   "metadata": {},
   "outputs": [
    {
     "name": "stdout",
     "output_type": "stream",
     "text": [
      "4.9034526 minutes\n"
     ]
    }
   ],
   "source": [
    "duck1 = (2,2) # duck starts in middle of grid\n",
    "duck2 = (2,2) # duck number 2\n",
    "minutes = 0\n",
    "times = []\n",
    "\n",
    "trials = 5000000\n",
    "\n",
    "for i in range(trials):\n",
    "    # first moves\n",
    "    duck1 = chooseMove(duck1[0], duck1[1]) \n",
    "    duck2 = chooseMove(duck2[0], duck2[1])    \n",
    "    minutes = minutes+1\n",
    "    \n",
    "    # two ducks move until they're at the same place again\n",
    "    while(duck1 != duck2):\n",
    "        duck1 = chooseMove(duck1[0], duck1[1])\n",
    "        duck2 = chooseMove(duck2[0], duck2[1])\n",
    "        minutes = minutes+1\n",
    "        \n",
    "    times.append(minutes)\n",
    "    duck1 = (2,2) # reset ducks\n",
    "    duck2 = (2,2)\n",
    "    minutes = 0\n",
    "\n",
    "print(sum(times) / len(times),\"minutes\")"
   ]
  },
  {
   "cell_type": "markdown",
   "metadata": {},
   "source": [
    "### Extra Credit\n",
    "\n",
    "For 3 ducks."
   ]
  },
  {
   "cell_type": "code",
   "execution_count": 11,
   "metadata": {},
   "outputs": [
    {
     "name": "stdout",
     "output_type": "stream",
     "text": [
      "18.439541 minutes\n"
     ]
    }
   ],
   "source": [
    "duck1 = (2,2) # duck starts in middle of grid\n",
    "duck2 = (2,2) # duck number 2\n",
    "duck3 = (2,2) # duck number 3\n",
    "minutes = 0\n",
    "times = []\n",
    "\n",
    "trials = 1000000\n",
    "\n",
    "for i in range(trials):\n",
    "    # first moves\n",
    "    duck1 = chooseMove(duck1[0], duck1[1]) \n",
    "    duck2 = chooseMove(duck2[0], duck2[1])    \n",
    "    duck3 = chooseMove(duck3[0], duck3[1]) \n",
    "    minutes = minutes+1\n",
    "    \n",
    "    # 3 ducks move until they're at the same place again\n",
    "    while((duck1 == duck2 and duck2 == duck3) == False):\n",
    "        duck1 = chooseMove(duck1[0], duck1[1])\n",
    "        duck2 = chooseMove(duck2[0], duck2[1])\n",
    "        duck3 = chooseMove(duck3[0], duck3[1]) \n",
    "        minutes = minutes+1\n",
    "        \n",
    "    times.append(minutes)\n",
    "    duck1 = (2,2) # reset ducks\n",
    "    duck2 = (2,2)\n",
    "    duck3 = (2,2)\n",
    "    minutes = 0\n",
    "\n",
    "print(sum(times) / len(times),\"minutes\")"
   ]
  },
  {
   "cell_type": "code",
   "execution_count": null,
   "metadata": {},
   "outputs": [],
   "source": []
  }
 ],
 "metadata": {
  "kernelspec": {
   "display_name": "Python 3",
   "language": "python",
   "name": "python3"
  },
  "language_info": {
   "codemirror_mode": {
    "name": "ipython",
    "version": 3
   },
   "file_extension": ".py",
   "mimetype": "text/x-python",
   "name": "python",
   "nbconvert_exporter": "python",
   "pygments_lexer": "ipython3",
   "version": "3.6.8"
  }
 },
 "nbformat": 4,
 "nbformat_minor": 2
}
